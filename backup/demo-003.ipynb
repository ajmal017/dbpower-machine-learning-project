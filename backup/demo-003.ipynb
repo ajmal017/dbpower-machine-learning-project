{
 "cells": [
  {
   "cell_type": "code",
   "execution_count": null,
   "metadata": {},
   "outputs": [],
   "source": [
    "import tensorflow as tf\n",
    "import pandas as pd\n",
    "import sklearn as sk\n",
    "import matplotlib.pyplot as plt\n",
    "import mplfinance as mpf\n",
    "import talib as talib\n",
    "import numpy as np\n",
    "import data as ds\n",
    "import common as common\n",
    "import os as os\n",
    "import math as math\n",
    "import datetime as datetime\n",
    "from datetime import timedelta\n",
    "from os import listdir, walk\n",
    "from itertools import repeat\n",
    "from mplfinance.original_flavor import candlestick_ohlc\n",
    "from datetime import datetime, timedelta\n",
    "from tensorflow.keras.layers import Dropout\n",
    "from tensorflow.keras.optimizers import SGD\n",
    "from sklearn.preprocessing import MinMaxScaler, StandardScaler\n",
    "pd.options.mode.chained_assignment = None"
   ]
  },
  {
   "cell_type": "code",
   "execution_count": null,
   "metadata": {},
   "outputs": [],
   "source": [
    "# 股價\n",
    "data_source = ds.DataSource()\n",
    "codes1 = ['hsi', '02800', '03033']\n",
    "data1 = data_source.get_data(codes1)\n",
    "for code, df0 in data1.items():\n",
    "    df0.fillna(0, inplace=True)\n",
    "    df0.replace([np.inf, -np.inf], 0, inplace=True)\n",
    "    df0.columns = ['code', 'lot', 'nmll', 'sdate', 'High', 'Low', 'Open', 'Close', 'Volume']\n",
    "    types2 = {'sdate': 'object', 'High': 'float64', 'Low': 'float64', 'Open': 'float64', 'Close': 'float64', 'Volume': 'int64'}\n",
    "    df0.astype(types2).dtypes\n",
    "    data1[code] = df0"
   ]
  },
  {
   "cell_type": "code",
   "execution_count": null,
   "metadata": {},
   "outputs": [],
   "source": [
    "df1 = data1['hsi']\n",
    "df1.sdate = pd.to_datetime(df1.sdate)\n",
    "df1.index = df1.sdate\n",
    "df1['year'] = pd.DatetimeIndex(df1.sdate).year"
   ]
  },
  {
   "cell_type": "code",
   "execution_count": null,
   "metadata": {},
   "outputs": [],
   "source": [
    "# 單日升/跌幅\n",
    "df2 = df1.copy(deep=True)\n",
    "df2['gap_last'] = df2['Close'].diff()\n",
    "df2['gap_last_pct'] = (df2['gap_last'] / df2['Close'])*100\n",
    "mask = ((df2['gap_last_pct'] >= 8) | (df2['gap_last_pct'] <= -8))\n",
    "df2.loc[mask]"
   ]
  },
  {
   "cell_type": "code",
   "execution_count": null,
   "metadata": {},
   "outputs": [],
   "source": [
    "# 開市裂口\n",
    "df3 = df1.copy(deep=True)\n",
    "df3['pre_last'] = df3['Close'].shift(periods=1, fill_value=0)\n",
    "df3['gap_open'] = df3['Open']-df3['pre_last']\n",
    "df3['gap_open_pct'] = (df3['gap_open'] / df3['Close'])*100\n",
    "mask = (((df3['gap_open_pct'] >= 2) | (df3['gap_open_pct'] <= -100)) & (df3['year'] >= 2020))\n",
    "days1 = df3.loc[mask].iloc[1:].sdate"
   ]
  },
  {
   "cell_type": "code",
   "execution_count": null,
   "metadata": {},
   "outputs": [],
   "source": [
    "# 繪圖\n",
    "for v in days1:\n",
    "    shift_day = 30\n",
    "    start, end = v-timedelta(days=shift_day), v+timedelta(days=shift_day)\n",
    "    mask = (df3['sdate'] > start) & (df3['sdate'] <= end)\n",
    "    df4 = df3.loc[mask]\n",
    "    df4['Volume'] = df4['Volume']/100000000\n",
    "    style = mpf.make_mpf_style(base_mpf_style='charles', rc={'font.size':6})\n",
    "    scale_width_adjustment = dict(volume=0.6, candle=1)\n",
    "    ylabel = df4['code'].values.tolist()[0]\n",
    "    year = str(df4['year'].values.tolist()[0])\n",
    "    vlines=dict(vlines=[v])\n",
    "    mpf.plot(df4, type='candle', vlines=vlines, style=style, title='', ylabel=ylabel+'    '+year, ylabel_lower='', volume=True, figscale=0.5, xrotation=0, show_nontrading=False, tight_layout=True, datetime_format=\"%m-%d\", scale_width_adjustment=scale_width_adjustment) "
   ]
  },
  {
   "cell_type": "code",
   "execution_count": null,
   "metadata": {},
   "outputs": [],
   "source": []
  },
  {
   "cell_type": "code",
   "execution_count": null,
   "metadata": {},
   "outputs": [],
   "source": []
  }
 ],
 "metadata": {
  "kernelspec": {
   "display_name": "Python 3",
   "language": "python",
   "name": "python3"
  },
  "language_info": {
   "codemirror_mode": {
    "name": "ipython",
    "version": 3
   },
   "file_extension": ".py",
   "mimetype": "text/x-python",
   "name": "python",
   "nbconvert_exporter": "python",
   "pygments_lexer": "ipython3",
   "version": "3.7.5"
  }
 },
 "nbformat": 4,
 "nbformat_minor": 4
}
