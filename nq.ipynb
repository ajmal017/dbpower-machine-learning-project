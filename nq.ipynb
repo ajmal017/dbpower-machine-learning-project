{
 "cells": [
  {
   "cell_type": "code",
   "execution_count": 68,
   "metadata": {},
   "outputs": [],
   "source": [
    "import tensorflow as tf\n",
    "import pandas as pd\n",
    "import sklearn as sk\n",
    "import matplotlib.pyplot as plt\n",
    "import mplfinance as mpf\n",
    "import talib as talib\n",
    "import numpy as np\n",
    "import data as ds\n",
    "import common as common\n",
    "import os as os\n",
    "import datetime as datetime\n",
    "from mplfinance.original_flavor import candlestick_ohlc\n",
    "from datetime import datetime, timedelta\n",
    "from tensorflow.keras.layers import Dropout\n",
    "from tensorflow.keras.optimizers import SGD\n",
    "from sklearn.preprocessing import MinMaxScaler, StandardScaler"
   ]
  },
  {
   "cell_type": "code",
   "execution_count": 69,
   "metadata": {},
   "outputs": [],
   "source": [
    "# 环境设定\n",
    "pd.options.mode.chained_assignment = None\n",
    "# 不让程序占满 GPU 内存\n",
    "gpus = tf.config.list_physical_devices('GPU')\n",
    "for gpu in gpus:\n",
    "    tf.config.experimental.set_memory_growth(gpu, True)"
   ]
  },
  {
   "cell_type": "code",
   "execution_count": 70,
   "metadata": {},
   "outputs": [],
   "source": [
    "# 数据源 v1\n",
    "file_1 = os.path.abspath(os.path.join('data', 'nq', '20201020_064100.csv'))\n",
    "file_2 = os.path.abspath(os.path.join('data', 'nq', '20201023_064200.csv'))\n",
    "df1 = pd.read_csv(file_1)\n",
    "df2 = pd.read_csv(file_2)\n",
    "\n",
    "# 数据源 v2\n",
    "file_3 = os.path.abspath(os.path.join('data', 'nq', 'nq-20201102.csv'))\n",
    "_df1 = pd.read_csv(file_3).fillna(0)"
   ]
  },
  {
   "cell_type": "code",
   "execution_count": 71,
   "metadata": {},
   "outputs": [
    {
     "name": "stdout",
     "output_type": "stream",
     "text": [
      "Volume obtains 0\n"
     ]
    }
   ],
   "source": [
    "# 1.0 reshapre dataframe v1 重構數據集\n",
    "df1.index = pd.to_datetime(df1.stime)\n",
    "df2.index = pd.to_datetime(df2.stime)\n",
    "df3 = pd.concat([df1, df2], axis=0, join='outer', ignore_index=False, keys=None, levels=None, names=None, verify_integrity=False, copy=True)\n",
    "df3 = df3.rename(columns={\"high\": \"High\", \"low\": \"Low\", \"open\": \"Open\", \"last\": \"Close\", \"vol\": \"Accumulated Volume\"})\n",
    "df3['udate'] = pd.to_datetime(df3['udate'])\n",
    "df3['interactive_udate'] = pd.to_datetime(df3['interactive_udate'])\n",
    "df3['mdate'] = pd.to_datetime(df3['mdate'])\n",
    "df3['stime'] = pd.to_datetime(df3['stime'])\n",
    "shape = df3.shape\n",
    "types = df3.dtypes\n",
    "types1 = {'High': 'float64', 'Low': 'float64', 'Open': 'float64', 'Close': 'float64', 'Accumulated Volume': 'int64', 'chng': 'float64', 'pchng': 'float64'}\n",
    "df3.astype(types1).dtypes\n",
    "\n",
    "# 1.0 reshapre dataframe v2 重構數據集\n",
    "_df1.columns = ['udate', 'High', 'Low', 'Open', 'Close', 'Volume']\n",
    "types2 = {'udate': 'object', 'High': 'float64', 'Low': 'float64', 'Open': 'float64', 'Close': 'float64', 'Volume': 'int64'}\n",
    "_df1.astype(types2).dtypes\n",
    "_df2 = _df1.copy(deep=True)\n",
    "error_row = []\n",
    "for k, v in _df1.iterrows():\n",
    "    if not pd.isnull(_df1['udate'].iloc[k]) and _df1['udate'].iloc[k] > 0:\n",
    "        stime = str(int(_df1['udate'].iloc[k]))\n",
    "        _df2['udate'].iloc[k] = datetime(year=2020, month=int(stime[-8:-6]), day=int(stime[-6:-4]), hour=int(stime[-4:-2]), minute=int(stime[-2:]), second=0)\n",
    "    else:\n",
    "        error_row.append(k)\n",
    "_df2.drop(_df2.index[error_row], inplace=True)\n",
    "_df2.udate = pd.to_datetime(_df2.udate)\n",
    "_df2.index = pd.to_datetime(_df2.udate)\n",
    "df3 = _df2.copy(deep=True)\n",
    "\n",
    "# 1.2 數據有效性檢查 zero / nan\n",
    "for k, v in types2.items():\n",
    "    if (df3[k].isin([np.nan]).any().any()):\n",
    "        print(k+' obtains nan')\n",
    "    if (df3[k].isin([0]).any().any()):\n",
    "        print(k+' obtains 0')\n",
    "is_contain_null = df3.isnull().sum()"
   ]
  },
  {
   "cell_type": "code",
   "execution_count": 72,
   "metadata": {},
   "outputs": [],
   "source": [
    "# 2.0 technical indicator\n",
    "highs = np.array(df3['High'], dtype='float')\n",
    "lows = np.array(df3['Low'], dtype='float')\n",
    "opens = np.array(df3['Open'], dtype='float')\n",
    "closes = np.array(df3['Close'], dtype='float')\n",
    "vols = np.array(df3['Volume'], dtype='float')\n",
    "# 2.1 SMA 均線\n",
    "for v in [5, 10, 20, 50, 80, 100, 120, 150, 180, 200]:\n",
    "    df3['sma-'+str(v)]= talib.SMA(closes, timeperiod=v)\n",
    "# 2.2 Bollinger 保力加\n",
    "df3['upper-band'], df3['middle-band'], df3['lower-band'] = talib.BBANDS(closes, timeperiod=20, nbdevup=2, nbdevdn=2, matype=0)\n",
    "# 2.3 %B %保力加\n",
    "df3['%b'] = (df3['Close']-df3['lower-band'])/(df3['upper-band']-df3['lower-band'])*100\n",
    "df3['%b-high']  = common.percentB_belowzero(df3['%b'], df3['Close']) \n",
    "df3['%b-low'] = common.percentB_aboveone(df3['%b'], df3['Close'])\n",
    "# 2.4 OBV 能量潮\n",
    "df3['obv'] = talib.OBV(closes, vols)\n",
    "# 2.5 vol EMA\n",
    "df3['vol-ema5'] = talib.EMA(vols, timeperiod=5)\n",
    "# 2.6 P-SAR 抛物线\n",
    "df3['p-sar'] = talib.SAR(highs, lows, acceleration=0.02, maximum=0.2)\n",
    "# 2.7 vwap 成交量加權平均價格\n",
    "min_max_scaler, standar_scaler = MinMaxScaler(feature_range=(0, 1)), StandardScaler()\n",
    "period, vwap, vwap2 = [5, 20, 50, 100], [], []\n",
    "for v in period:\n",
    "    df3['typical-price'] = (df3['High'] + df3['Low'] + df3['Close']) / 3\n",
    "    df3['turnover'] = df3['typical-price'] * df3['Volume']\n",
    "    df3['cum-turnover-'+str(v)] = df3['turnover'].rolling(window=v).sum()\n",
    "    df3['cum-volume-'+str(v)] = df3['Volume'].rolling(window=v).sum()\n",
    "    df3['vwap-'+str(v)] = df3['cum-turnover-'+str(v)]  /  df3['cum-volume-'+str(v)]\n",
    "    df3['vwap-'+str(v)] = df3['vwap-'+str(v)].replace([np.inf, -np.inf], 0)\n",
    "    df3['vwap-'+str(v)].fillna(0, inplace=True)\n",
    "    drop_list = ['turnover', 'typical-price', 'cum-turnover-'+str(v), 'cum-volume-'+str(v)]\n",
    "    df3.drop(drop_list, axis=1, inplace=True)\n",
    "    vwap.append('vwap-'+str(v))\n",
    "    vwap2.append('vwap-nor-'+str(v))\n",
    "df3[vwap2] = min_max_scaler.fit_transform(df3[vwap].values)\n",
    "# 2.8 MACD\n",
    "df3['macd'], df3['macdsignal'], df3['macdhist'] = talib.MACD(closes, fastperiod=12, slowperiod=26, signalperiod=9)"
   ]
  },
  {
   "cell_type": "code",
   "execution_count": 73,
   "metadata": {},
   "outputs": [],
   "source": [
    "# 3.0 separate to daily data set\n",
    "data = {}\n",
    "days1 = list(dict.fromkeys([v.date() for v in df3['udate']])) # how many tradeing day\n",
    "for day in days1:\n",
    "    day_start = datetime(day.year, day.month, day.day, 6, 0, 0)\n",
    "    day2 = day + timedelta(days=1)\n",
    "    day_end = datetime(day2.year, day2.month, day2.day, 6, 0, 0)\n",
    "    mask = ((df3['udate'] >= day_start) & (df3['udate'] <= day_end))\n",
    "    df4 = df3.loc[mask]\n",
    "    if (df4.shape[0] > 1):\n",
    "        data[day] = df4"
   ]
  },
  {
   "cell_type": "code",
   "execution_count": 74,
   "metadata": {},
   "outputs": [],
   "source": [
    "# 4.0 draw chart\n",
    "for k, _df5 in data.items():\n",
    "    df5 = _df5.copy(deep=True)\n",
    "    # 4.1 style\n",
    "    style = mpf.make_mpf_style(base_mpf_style='charles', rc={'font.size':6})\n",
    "    # 4.2 addplot\n",
    "    apds = [mpf.make_addplot(df5[['lower-band','upper-band']],panel=0,color='orange',linestyle='dashdot'),\n",
    "            mpf.make_addplot(df5['vwap-20'].replace(0, np.nan),panel=0,color='aqua',linestyle='dashdot'),\n",
    "            mpf.make_addplot(df5['%b-low'],type='scatter',markersize=20,marker='v',panel=0),\n",
    "            mpf.make_addplot(df5['%b-high'],type='scatter',markersize=20,marker='^',panel=0),\n",
    "            mpf.make_addplot(df5['p-sar'],scatter=True,markersize=1,marker='*',panel=0,color='blueviolet'),\n",
    "            mpf.make_addplot(df5['macd'],panel=2,color='orange'),\n",
    "            mpf.make_addplot(df5['macdsignal'],panel=2,color='violet'),\n",
    "            mpf.make_addplot(df5['macdhist'],panel=2,type='bar',color='dimgray'),\n",
    "            mpf.make_addplot(df5['vol-ema5'],panel=1,color='orange')]\n",
    "    # 4.3 render\n",
    "    if (False):\n",
    "        try:\n",
    "            # print(df5.shape, df5['udate'].iloc[0], df5['udate'].iloc[-1])\n",
    "            mpf.plot(df5, type='candle', addplot=apds, style=style, ylabel='', ylabel_lower='', volume=True, figscale=0.5, xrotation=0, datetime_format=\"%H:%M\", show_nontrading=False, tight_layout=True, savefig='./data/img-nq/features/'+k.strftime('%m-%d-%Y')) \n",
    "        except:\n",
    "            print('except')"
   ]
  },
  {
   "cell_type": "code",
   "execution_count": 161,
   "metadata": {},
   "outputs": [
    {
     "name": "stdout",
     "output_type": "stream",
     "text": [
      "数据集: Total dataset has 31487 samples, and 15 features.\n",
      "分包: Train Data: (26008, 15), Test Data: (2852, 15), Validation Data: (2427, 15)\n",
      "訓練集: X_train Data: (25978, 15, 1), Y_train Data: (25978, 1)\n",
      "測試集: X_Test Data: (2822, 15, 1), Y_Test Data: (2822, 1)\n",
      "验证集: X_Valid Data: (2397, 15, 1), Y_Valid Data: (2397, 1)\n"
     ]
    }
   ],
   "source": [
    "# 5.0 合併\n",
    "df7 = pd.DataFrame()\n",
    "for k, df6 in data.items():\n",
    "    df7 = pd.concat([df7, df6], axis=0, join='outer', ignore_index=False, keys=None, levels=None, names=None, verify_integrity=False, copy=True)\n",
    "# 5.1.1 清洗\n",
    "df8 = df7.copy(deep=True)\n",
    "# drop_list = ['udate', 'code', 'name', 'nmll', 'bid', 'ask', 'bsize', 'asize', 'clast', 'Accumulated Volume', 'turnover', 'currency',  'yrhigh', 'yrlow', 'tnover_sc', 'lotsize', 'calllv', 'issued', 'ichng', 'ucode', 'ratio', 'strike', 'mdate', 'issuer', 'traded', 'ocode', 'eikon_udate', 'interactive_udate', 'instrument_type', 'stime', 'udate2']\n",
    "drop_list = ['udate', 'High', 'Low', 'Open', 'Volume', 'obv', 'vol-ema5']+vwap\n",
    "drop_list = drop_list+['%b-high', '%b-low', 'vwap-nor-5', 'vwap-nor-20', 'vwap-nor-50', 'vwap-nor-100', '%b', 'macdhist', 'macd', 'macdsignal']\n",
    "df8.drop(drop_list, axis=1, inplace=True)\n",
    "df8.fillna(0, inplace=True)\n",
    "is_contain_null = df8.isnull().sum()\n",
    "is_contain_nan = df8.isna().sum()\n",
    "df8 = df8.round(2)\n",
    "print('数据集: Total dataset has {} samples, and {} features.'.format(df8.shape[0], df8.shape[1])) # df8.info()\n",
    "# 5.1.2 save all data to csv\n",
    "path_data = os.path.abspath(os.path.join('data', 'nq', 'nq-clean-data-with-features.csv'))\n",
    "if os.path.exists(path_data):\n",
    "    os.remove(path_data)\n",
    "df8.to_csv(path_data)\n",
    "# 5.2 分包\n",
    "no_day = np.array([v.shape[0] for k, v in data.items()])\n",
    "no_day_1, no_day_2, no_day_3 = no_day[:-5].sum(), no_day[:-3].sum(), no_day.sum()\n",
    "train_data = df8.iloc[200 : no_day_1]\n",
    "test_data = df8.iloc[no_day_1 : no_day_2]\n",
    "validation_data = df8.iloc[no_day_2 : no_day_3]\n",
    "print('分包: Train Data: {}, Test Data: {}, Validation Data: {}'.format(train_data.shape, test_data.shape, validation_data.shape))\n",
    "\n",
    "# 5.3 模型数据\n",
    "min_max_scaler, standar_scaler = MinMaxScaler(feature_range=(0, 1)), StandardScaler()\n",
    "def split_data(data, timesteps):\n",
    "    x_data, y_data = [], []\n",
    "    no_max = data.shape[0]-timesteps\n",
    "    for i in range(timesteps, no_max):\n",
    "        x_data.append(data.iloc[i-timesteps:i, 0])\n",
    "        y_data.append(data.iloc[i, 0])\n",
    "    x_data, y_data = np.array(x_data), np.array(y_data)\n",
    "    x_data = np.reshape(x_data, (x_data.shape[0], x_data.shape[1], 1))\n",
    "    y_data = np.reshape(y_data, (y_data.shape[0], 1))\n",
    "    return [x_data, y_data]\n",
    "\n",
    "# 5.3.1 train data\n",
    "x_train, y_train = [], []\n",
    "for k, v in train_data.iterrows():\n",
    "    x_train.append(v.tolist()[1:])\n",
    "    y_train.append(v['Close'])\n",
    "x_train, y_train =  np.array(x_train), np.array(y_train)\n",
    "x_train = np.reshape(x_train, (x_train.shape[0], x_train.shape[1], 1))\n",
    "y_train = np.reshape(y_train, (y_train.shape[0], 1))\n",
    "x_train, y_train = split_data(train_data, 15)\n",
    "print('訓練集: X_train Data: {}, Y_train Data: {}'.format(x_train.shape, y_train.shape))\n",
    "# 5.3.2 test data\n",
    "x_test, y_test = [], []\n",
    "for k, v in test_data.iterrows():\n",
    "    x_test.append(v.tolist()[1:])\n",
    "    y_test.append(v['Close'])\n",
    "x_test, y_test =  np.array(x_test), np.array(y_test)\n",
    "x_test = np.reshape(x_test, (x_test.shape[0], x_test.shape[1], 1))\n",
    "y_test = np.reshape(y_test, (y_test.shape[0], 1))\n",
    "x_test, y_test = split_data(test_data, 15)\n",
    "print('測試集: X_Test Data: {}, Y_Test Data: {}'.format(x_test.shape, y_test.shape))\n",
    "# 5.3.3 validation data\n",
    "x_valid, y_valid = [], []\n",
    "for k, v in validation_data.iterrows():\n",
    "    x_valid.append(v.tolist()[1:])\n",
    "    y_valid.append(v['Close'])\n",
    "x_valid, y_valid =  np.array(x_valid), np.array(y_valid)\n",
    "x_valid = np.reshape(x_valid, (x_valid.shape[0], x_valid.shape[1], 1))\n",
    "y_valid = np.reshape(y_valid, (y_valid.shape[0], 1))\n",
    "x_valid, y_valid = split_data(validation_data, 15)\n",
    "print('验证集: X_Valid Data: {}, Y_Valid Data: {}'.format(x_valid.shape, y_valid.shape))"
   ]
  },
  {
   "cell_type": "code",
   "execution_count": 169,
   "metadata": {},
   "outputs": [
    {
     "name": "stdout",
     "output_type": "stream",
     "text": [
      "WARNING:tensorflow:Layer lstm_56 will not use cuDNN kernel since it doesn't meet the cuDNN kernel criteria. It will use generic GPU kernel as fallback when running on GPU\n",
      "Model: \"sequential_14\"\n",
      "_________________________________________________________________\n",
      "Layer (type)                 Output Shape              Param #   \n",
      "=================================================================\n",
      "lstm_56 (LSTM)               (None, 15, 512)           1052672   \n",
      "_________________________________________________________________\n",
      "dropout_70 (Dropout)         (None, 15, 512)           0         \n",
      "_________________________________________________________________\n",
      "lstm_57 (LSTM)               (None, 15, 512)           2099200   \n",
      "_________________________________________________________________\n",
      "dropout_71 (Dropout)         (None, 15, 512)           0         \n",
      "_________________________________________________________________\n",
      "lstm_58 (LSTM)               (None, 15, 512)           2099200   \n",
      "_________________________________________________________________\n",
      "dropout_72 (Dropout)         (None, 15, 512)           0         \n",
      "_________________________________________________________________\n",
      "lstm_59 (LSTM)               (None, 15, 512)           2099200   \n",
      "_________________________________________________________________\n",
      "dropout_73 (Dropout)         (None, 15, 512)           0         \n",
      "_________________________________________________________________\n",
      "dense_14 (Dense)             (None, 15, 1)             513       \n",
      "_________________________________________________________________\n",
      "dropout_74 (Dropout)         (None, 15, 1)             0         \n",
      "=================================================================\n",
      "Total params: 7,350,785\n",
      "Trainable params: 7,350,785\n",
      "Non-trainable params: 0\n",
      "_________________________________________________________________\n",
      "Epoch 1/5\n",
      "  2/203 [..............................] - ETA: 25s - loss: 73.2495 - accuracy: 0.0000e+00WARNING:tensorflow:Method (on_train_batch_end) is slow compared to the batch update (0.108332). Check your callbacks.\n",
      "203/203 [==============================] - 8s 39ms/step - loss: 37.0310 - accuracy: 0.0000e+00 - val_loss: 20.3351 - val_accuracy: 0.0000e+00\n",
      "Epoch 2/5\n",
      "203/203 [==============================] - 7s 34ms/step - loss: 30.3260 - accuracy: 0.0000e+00 - val_loss: 15.4509 - val_accuracy: 0.0000e+00\n",
      "Epoch 3/5\n",
      "203/203 [==============================] - 7s 34ms/step - loss: 27.6118 - accuracy: 0.0000e+00 - val_loss: 12.6879 - val_accuracy: 0.0000e+00\n",
      "Epoch 4/5\n",
      "203/203 [==============================] - 7s 34ms/step - loss: 25.7967 - accuracy: 0.0000e+00 - val_loss: 10.8373 - val_accuracy: 0.0000e+00\n",
      "Epoch 5/5\n",
      "203/203 [==============================] - 7s 34ms/step - loss: 24.7078 - accuracy: 0.0000e+00 - val_loss: 9.4805 - val_accuracy: 0.0000e+00\n"
     ]
    }
   ],
   "source": [
    "# 6.0.1 模型参数\n",
    "batch_size = 128 # 128\n",
    "epochs = 5  # 64\n",
    "units = 512 # 128\n",
    "verbose = 1\n",
    "# 6.0.2 日志参数\n",
    "prefix = 'nq-lstm'\n",
    "cur_time = datetime.now().strftime(\"%Y%m%d-%H%M%S\")\n",
    "\n",
    "# 6.1 模型\n",
    "model_lstm = tf.keras.Sequential()\n",
    "model_lstm.add(tf.keras.layers.LSTM(units=units, activation='sigmoid', return_sequences=True, input_shape=(x_train.shape[1], x_train.shape[2])))\n",
    "model_lstm.add(Dropout(rate=0.2))\n",
    "model_lstm.add(tf.keras.layers.LSTM(units=units, return_sequences=True))\n",
    "model_lstm.add(Dropout(rate=0.2))\n",
    "model_lstm.add(tf.keras.layers.LSTM(units=units, return_sequences=True))\n",
    "model_lstm.add(Dropout(rate=0.2))\n",
    "model_lstm.add(tf.keras.layers.LSTM(units=units, return_sequences=True))\n",
    "model_lstm.add(Dropout(rate=0.2))\n",
    "model_lstm.add(tf.keras.layers.Dense(units=1))\n",
    "model_lstm.add(Dropout(rate=0.2))\n",
    "model_lstm.compile(optimizer='rmsprop', loss='mean_squared_logarithmic_error', metrics=['accuracy']) # mae, sparse_categorical_accuracy\n",
    "model_lstm.summary()\n",
    "\n",
    "# 6.2.1 check point\n",
    "checkpoint_dir = './training_checkpoints/'+ prefix +'-' + cur_time\n",
    "os.mkdir(checkpoint_dir)\n",
    "checkpoint_prefix = os.path.join(checkpoint_dir, \"ckpt_{epoch}\")\n",
    "checkpoint_callback = tf.keras.callbacks.ModelCheckpoint(filepath=checkpoint_prefix, save_weights_only=True)\n",
    "\n",
    "# 6.2.2 tensor board\n",
    "log_dir = os.path.join('./logs/fit/'+ prefix +'-') + cur_time\n",
    "os.mkdir(log_dir)\n",
    "tensor_board_callback = tf.keras.callbacks.TensorBoard(log_dir=log_dir, histogram_freq=1)\n",
    "\n",
    "# 6.3 fit model\n",
    "history_lstm = model_lstm.fit(x_train, y_train, epochs = epochs, batch_size = batch_size, validation_data = (x_test, y_test), verbose = verbose, callbacks=[checkpoint_callback, tensor_board_callback])\n",
    "\n",
    "# 6.4 save model\n",
    "model_path = \"./saved_model/\"+prefix+\"-\"+cur_time+\".h5\"\n",
    "model_lstm.save(model_path)"
   ]
  },
  {
   "cell_type": "code",
   "execution_count": 170,
   "metadata": {},
   "outputs": [
    {
     "data": {
      "image/png": "[encoded data removed]",
      "text/plain": [
       "<Figure size 432x288 with 1 Axes>"
      ]
     },
     "metadata": {
      "needs_background": "light"
     },
     "output_type": "display_data"
    }
   ],
   "source": [
    "# 7.0 visualize model\n",
    "keys = list(history_lstm.history.keys())\n",
    "training_loss = history_lstm.history['loss']\n",
    "test_loss = history_lstm.history['val_loss']\n",
    "epoch_count = range(1, len(training_loss) + 1)\n",
    "plt.plot(epoch_count, training_loss, 'r--')\n",
    "plt.plot(epoch_count, test_loss, 'b-')\n",
    "plt.legend(['Training Loss', 'Test Loss'])\n",
    "plt.xlabel('Epoch')\n",
    "plt.ylabel('Loss')\n",
    "plt.title('model:'+prefix+'   batch_size:'+str(batch_size)+'   epochs:'+str(epochs)+'   units:'+str(units),loc ='left')\n",
    "plt.tight_layout()\n",
    "plt.grid()\n",
    "plt.savefig('./data/img-nq/results/'+cur_time)"
   ]
  },
  {
   "cell_type": "code",
   "execution_count": 171,
   "metadata": {},
   "outputs": [
    {
     "name": "stdout",
     "output_type": "stream",
     "text": [
      "Train Score: 9.63 MSE (3.10 RMSE)\n",
      "Test Score: 9.48 MSE (3.08 RMSE)\n",
      "Validate Score: 9.35 MSE (3.06 RMSE)\n"
     ]
    }
   ],
   "source": [
    "# 8.0 evaluate\n",
    "train_score = model_lstm.evaluate(x_train, y_train, verbose=0)\n",
    "print('Train Score: %.2f MSE (%.2f RMSE)' % (train_score[0], math.sqrt(train_score[0])))\n",
    "test_score = model_lstm.evaluate(x_test, y_test, verbose=0)\n",
    "print('Test Score: %.2f MSE (%.2f RMSE)' % (test_score[0], math.sqrt(test_score[0])))\n",
    "valid_score = model_lstm.evaluate(x_valid, y_valid, verbose=0)\n",
    "print('Validate Score: %.2f MSE (%.2f RMSE)' % (valid_score[0], math.sqrt(valid_score[0])))"
   ]
  },
  {
   "cell_type": "code",
   "execution_count": 172,
   "metadata": {},
   "outputs": [],
   "source": [
    "# 9.0\n",
    "predicted_price = model_lstm.predict(x_valid)"
   ]
  },
  {
   "cell_type": "code",
   "execution_count": null,
   "metadata": {},
   "outputs": [],
   "source": []
  },
  {
   "cell_type": "code",
   "execution_count": null,
   "metadata": {},
   "outputs": [],
   "source": []
  },
  {
   "cell_type": "code",
   "execution_count": null,
   "metadata": {},
   "outputs": [],
   "source": []
  }
 ],
 "metadata": {
  "kernelspec": {
   "display_name": "Python 3",
   "language": "python",
   "name": "python3"
  },
  "language_info": {
   "codemirror_mode": {
    "name": "ipython",
    "version": 3
   },
   "file_extension": ".py",
   "mimetype": "text/x-python",
   "name": "python",
   "nbconvert_exporter": "python",
   "pygments_lexer": "ipython3",
   "version": "3.7.5"
  }
 },
 "nbformat": 4,
 "nbformat_minor": 4
}
