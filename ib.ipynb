{
 "cells": [
  {
   "cell_type": "code",
   "execution_count": 1,
   "metadata": {},
   "outputs": [],
   "source": [
    "import ib_insync\n",
    "from datetime import datetime, timedelta, date\n",
    "# print(ib_insync.__all__)"
   ]
  },
  {
   "cell_type": "code",
   "execution_count": 2,
   "metadata": {},
   "outputs": [],
   "source": [
    "from ib_insync import *\n",
    "util.startLoop()"
   ]
  },
  {
   "cell_type": "code",
   "execution_count": 4,
   "metadata": {},
   "outputs": [
    {
     "ename": "KeyboardInterrupt",
     "evalue": "",
     "output_type": "error",
     "traceback": [
      "\u001b[0;31m---------------------------------------------------------------------------\u001b[0m",
      "\u001b[0;31mKeyboardInterrupt\u001b[0m                         Traceback (most recent call last)",
      "\u001b[0;32m<ipython-input-4-cb7435fc4549>\u001b[0m in \u001b[0;36m<module>\u001b[0;34m\u001b[0m\n\u001b[1;32m      1\u001b[0m \u001b[0;31m# 1.0 打開連接\u001b[0m\u001b[0;34m\u001b[0m\u001b[0;34m\u001b[0m\u001b[0;34m\u001b[0m\u001b[0m\n\u001b[1;32m      2\u001b[0m \u001b[0mib\u001b[0m \u001b[0;34m=\u001b[0m \u001b[0mIB\u001b[0m\u001b[0;34m(\u001b[0m\u001b[0;34m)\u001b[0m\u001b[0;34m\u001b[0m\u001b[0;34m\u001b[0m\u001b[0m\n\u001b[0;32m----> 3\u001b[0;31m \u001b[0mib\u001b[0m\u001b[0;34m.\u001b[0m\u001b[0mconnect\u001b[0m\u001b[0;34m(\u001b[0m\u001b[0;34m'192.168.122.120'\u001b[0m\u001b[0;34m,\u001b[0m \u001b[0mport\u001b[0m\u001b[0;34m=\u001b[0m\u001b[0;36m4002\u001b[0m\u001b[0;34m,\u001b[0m \u001b[0mclientId\u001b[0m\u001b[0;34m=\u001b[0m\u001b[0;36m1\u001b[0m\u001b[0;34m,\u001b[0m \u001b[0mtimeout\u001b[0m\u001b[0;34m=\u001b[0m\u001b[0;36m5000\u001b[0m\u001b[0;34m)\u001b[0m\u001b[0;34m\u001b[0m\u001b[0;34m\u001b[0m\u001b[0m\n\u001b[0m",
      "\u001b[0;32m~/PycharmProjects/JupyterLab01/venv/lib/python3.7/site-packages/ib_insync/ib.py\u001b[0m in \u001b[0;36mconnect\u001b[0;34m(self, host, port, clientId, timeout, readonly, account)\u001b[0m\n\u001b[1;32m    270\u001b[0m         \"\"\"\n\u001b[1;32m    271\u001b[0m         return self._run(self.connectAsync(\n\u001b[0;32m--> 272\u001b[0;31m             host, port, clientId, timeout, readonly, account))\n\u001b[0m\u001b[1;32m    273\u001b[0m \u001b[0;34m\u001b[0m\u001b[0m\n\u001b[1;32m    274\u001b[0m     \u001b[0;32mdef\u001b[0m \u001b[0mdisconnect\u001b[0m\u001b[0;34m(\u001b[0m\u001b[0mself\u001b[0m\u001b[0;34m)\u001b[0m\u001b[0;34m:\u001b[0m\u001b[0;34m\u001b[0m\u001b[0;34m\u001b[0m\u001b[0m\n",
      "\u001b[0;32m~/PycharmProjects/JupyterLab01/venv/lib/python3.7/site-packages/ib_insync/ib.py\u001b[0m in \u001b[0;36m_run\u001b[0;34m(self, *awaitables)\u001b[0m\n\u001b[1;32m    308\u001b[0m \u001b[0;34m\u001b[0m\u001b[0m\n\u001b[1;32m    309\u001b[0m     \u001b[0;32mdef\u001b[0m \u001b[0m_run\u001b[0m\u001b[0;34m(\u001b[0m\u001b[0mself\u001b[0m\u001b[0;34m,\u001b[0m \u001b[0;34m*\u001b[0m\u001b[0mawaitables\u001b[0m\u001b[0;34m:\u001b[0m \u001b[0mAwaitable\u001b[0m\u001b[0;34m)\u001b[0m\u001b[0;34m:\u001b[0m\u001b[0;34m\u001b[0m\u001b[0;34m\u001b[0m\u001b[0m\n\u001b[0;32m--> 310\u001b[0;31m         \u001b[0;32mreturn\u001b[0m \u001b[0mutil\u001b[0m\u001b[0;34m.\u001b[0m\u001b[0mrun\u001b[0m\u001b[0;34m(\u001b[0m\u001b[0;34m*\u001b[0m\u001b[0mawaitables\u001b[0m\u001b[0;34m,\u001b[0m \u001b[0mtimeout\u001b[0m\u001b[0;34m=\u001b[0m\u001b[0mself\u001b[0m\u001b[0;34m.\u001b[0m\u001b[0mRequestTimeout\u001b[0m\u001b[0;34m)\u001b[0m\u001b[0;34m\u001b[0m\u001b[0;34m\u001b[0m\u001b[0m\n\u001b[0m\u001b[1;32m    311\u001b[0m \u001b[0;34m\u001b[0m\u001b[0m\n\u001b[1;32m    312\u001b[0m     \u001b[0;32mdef\u001b[0m \u001b[0mwaitOnUpdate\u001b[0m\u001b[0;34m(\u001b[0m\u001b[0mself\u001b[0m\u001b[0;34m,\u001b[0m \u001b[0mtimeout\u001b[0m\u001b[0;34m:\u001b[0m \u001b[0mfloat\u001b[0m \u001b[0;34m=\u001b[0m \u001b[0;36m0\u001b[0m\u001b[0;34m)\u001b[0m \u001b[0;34m->\u001b[0m \u001b[0mbool\u001b[0m\u001b[0;34m:\u001b[0m\u001b[0;34m\u001b[0m\u001b[0;34m\u001b[0m\u001b[0m\n",
      "\u001b[0;32m~/PycharmProjects/JupyterLab01/venv/lib/python3.7/site-packages/ib_insync/util.py\u001b[0m in \u001b[0;36mrun\u001b[0;34m(timeout, *awaitables)\u001b[0m\n\u001b[1;32m    320\u001b[0m         \u001b[0mglobalErrorEvent\u001b[0m\u001b[0;34m.\u001b[0m\u001b[0mconnect\u001b[0m\u001b[0;34m(\u001b[0m\u001b[0monError\u001b[0m\u001b[0;34m)\u001b[0m\u001b[0;34m\u001b[0m\u001b[0;34m\u001b[0m\u001b[0m\n\u001b[1;32m    321\u001b[0m         \u001b[0;32mtry\u001b[0m\u001b[0;34m:\u001b[0m\u001b[0;34m\u001b[0m\u001b[0;34m\u001b[0m\u001b[0m\n\u001b[0;32m--> 322\u001b[0;31m             \u001b[0mresult\u001b[0m \u001b[0;34m=\u001b[0m \u001b[0mloop\u001b[0m\u001b[0;34m.\u001b[0m\u001b[0mrun_until_complete\u001b[0m\u001b[0;34m(\u001b[0m\u001b[0mtask\u001b[0m\u001b[0;34m)\u001b[0m\u001b[0;34m\u001b[0m\u001b[0;34m\u001b[0m\u001b[0m\n\u001b[0m\u001b[1;32m    323\u001b[0m         \u001b[0;32mexcept\u001b[0m \u001b[0masyncio\u001b[0m\u001b[0;34m.\u001b[0m\u001b[0mCancelledError\u001b[0m \u001b[0;32mas\u001b[0m \u001b[0me\u001b[0m\u001b[0;34m:\u001b[0m\u001b[0;34m\u001b[0m\u001b[0;34m\u001b[0m\u001b[0m\n\u001b[1;32m    324\u001b[0m             \u001b[0;32mraise\u001b[0m \u001b[0mglobalErrorEvent\u001b[0m\u001b[0;34m.\u001b[0m\u001b[0mvalue\u001b[0m\u001b[0;34m(\u001b[0m\u001b[0;34m)\u001b[0m \u001b[0;32mor\u001b[0m \u001b[0me\u001b[0m\u001b[0;34m\u001b[0m\u001b[0;34m\u001b[0m\u001b[0m\n",
      "\u001b[0;32m~/PycharmProjects/JupyterLab01/venv/lib/python3.7/site-packages/nest_asyncio.py\u001b[0m in \u001b[0;36mrun_until_complete\u001b[0;34m(self, future)\u001b[0m\n\u001b[1;32m     87\u001b[0m                 \u001b[0mf\u001b[0m\u001b[0;34m.\u001b[0m\u001b[0m_log_destroy_pending\u001b[0m \u001b[0;34m=\u001b[0m \u001b[0;32mFalse\u001b[0m\u001b[0;34m\u001b[0m\u001b[0;34m\u001b[0m\u001b[0m\n\u001b[1;32m     88\u001b[0m             \u001b[0;32mwhile\u001b[0m \u001b[0;32mnot\u001b[0m \u001b[0mf\u001b[0m\u001b[0;34m.\u001b[0m\u001b[0mdone\u001b[0m\u001b[0;34m(\u001b[0m\u001b[0;34m)\u001b[0m\u001b[0;34m:\u001b[0m\u001b[0;34m\u001b[0m\u001b[0;34m\u001b[0m\u001b[0m\n\u001b[0;32m---> 89\u001b[0;31m                 \u001b[0mself\u001b[0m\u001b[0;34m.\u001b[0m\u001b[0m_run_once\u001b[0m\u001b[0;34m(\u001b[0m\u001b[0;34m)\u001b[0m\u001b[0;34m\u001b[0m\u001b[0;34m\u001b[0m\u001b[0m\n\u001b[0m\u001b[1;32m     90\u001b[0m                 \u001b[0;32mif\u001b[0m \u001b[0mself\u001b[0m\u001b[0;34m.\u001b[0m\u001b[0m_stopping\u001b[0m\u001b[0;34m:\u001b[0m\u001b[0;34m\u001b[0m\u001b[0;34m\u001b[0m\u001b[0m\n\u001b[1;32m     91\u001b[0m                     \u001b[0;32mbreak\u001b[0m\u001b[0;34m\u001b[0m\u001b[0;34m\u001b[0m\u001b[0m\n",
      "\u001b[0;32m~/PycharmProjects/JupyterLab01/venv/lib/python3.7/site-packages/nest_asyncio.py\u001b[0m in \u001b[0;36m_run_once\u001b[0;34m(self)\u001b[0m\n\u001b[1;32m    114\u001b[0m         \u001b[0;32melse\u001b[0m\u001b[0;34m:\u001b[0m\u001b[0;34m\u001b[0m\u001b[0;34m\u001b[0m\u001b[0m\n\u001b[1;32m    115\u001b[0m             \u001b[0mtimeout\u001b[0m \u001b[0;34m=\u001b[0m \u001b[0;32mNone\u001b[0m\u001b[0;34m\u001b[0m\u001b[0;34m\u001b[0m\u001b[0m\n\u001b[0;32m--> 116\u001b[0;31m         \u001b[0mevent_list\u001b[0m \u001b[0;34m=\u001b[0m \u001b[0mself\u001b[0m\u001b[0;34m.\u001b[0m\u001b[0m_selector\u001b[0m\u001b[0;34m.\u001b[0m\u001b[0mselect\u001b[0m\u001b[0;34m(\u001b[0m\u001b[0mtimeout\u001b[0m\u001b[0;34m)\u001b[0m\u001b[0;34m\u001b[0m\u001b[0;34m\u001b[0m\u001b[0m\n\u001b[0m\u001b[1;32m    117\u001b[0m         \u001b[0mself\u001b[0m\u001b[0;34m.\u001b[0m\u001b[0m_process_events\u001b[0m\u001b[0;34m(\u001b[0m\u001b[0mevent_list\u001b[0m\u001b[0;34m)\u001b[0m\u001b[0;34m\u001b[0m\u001b[0;34m\u001b[0m\u001b[0m\n\u001b[1;32m    118\u001b[0m \u001b[0;34m\u001b[0m\u001b[0m\n",
      "\u001b[0;32m/usr/lib/python3.7/selectors.py\u001b[0m in \u001b[0;36mselect\u001b[0;34m(self, timeout)\u001b[0m\n\u001b[1;32m    466\u001b[0m             \u001b[0mready\u001b[0m \u001b[0;34m=\u001b[0m \u001b[0;34m[\u001b[0m\u001b[0;34m]\u001b[0m\u001b[0;34m\u001b[0m\u001b[0;34m\u001b[0m\u001b[0m\n\u001b[1;32m    467\u001b[0m             \u001b[0;32mtry\u001b[0m\u001b[0;34m:\u001b[0m\u001b[0;34m\u001b[0m\u001b[0;34m\u001b[0m\u001b[0m\n\u001b[0;32m--> 468\u001b[0;31m                 \u001b[0mfd_event_list\u001b[0m \u001b[0;34m=\u001b[0m \u001b[0mself\u001b[0m\u001b[0;34m.\u001b[0m\u001b[0m_selector\u001b[0m\u001b[0;34m.\u001b[0m\u001b[0mpoll\u001b[0m\u001b[0;34m(\u001b[0m\u001b[0mtimeout\u001b[0m\u001b[0;34m,\u001b[0m \u001b[0mmax_ev\u001b[0m\u001b[0;34m)\u001b[0m\u001b[0;34m\u001b[0m\u001b[0;34m\u001b[0m\u001b[0m\n\u001b[0m\u001b[1;32m    469\u001b[0m             \u001b[0;32mexcept\u001b[0m \u001b[0mInterruptedError\u001b[0m\u001b[0;34m:\u001b[0m\u001b[0;34m\u001b[0m\u001b[0;34m\u001b[0m\u001b[0m\n\u001b[1;32m    470\u001b[0m                 \u001b[0;32mreturn\u001b[0m \u001b[0mready\u001b[0m\u001b[0;34m\u001b[0m\u001b[0;34m\u001b[0m\u001b[0m\n",
      "\u001b[0;31mKeyboardInterrupt\u001b[0m: "
     ]
    },
    {
     "name": "stderr",
     "output_type": "stream",
     "text": [
      "API connection failed: TimeoutError(110, \"Connect call failed ('192.168.122.120', 4002)\")\n"
     ]
    }
   ],
   "source": [
    "# 1.0 打開連接\n",
    "ib = IB()\n",
    "ib.connect('192.168.122.120', port=4002, clientId=1, timeout=5000)"
   ]
  },
  {
   "cell_type": "code",
   "execution_count": 29,
   "metadata": {},
   "outputs": [
    {
     "data": {
      "text/plain": [
       "[AccountValue(account='DU365095', tag='NetLiquidationByCurrency', value='2213055.0499', currency='BASE', modelCode='')]"
      ]
     },
     "execution_count": 29,
     "metadata": {},
     "output_type": "execute_result"
    }
   ],
   "source": [
    "# 2.0 帳戶資金\n",
    "[v for v in ib.accountValues() if v.tag == 'NetLiquidationByCurrency' and v.currency == 'BASE']"
   ]
  },
  {
   "cell_type": "code",
   "execution_count": 5,
   "metadata": {},
   "outputs": [],
   "source": [
    "# 3.0 期貨\n",
    "date1 = date.today().strftime('%Y%m')\n",
    "future1 = Future('NQ', date1, 'GLOBEX')"
   ]
  },
  {
   "cell_type": "code",
   "execution_count": 6,
   "metadata": {},
   "outputs": [
    {
     "data": {
      "text/html": [
       "<div>\n",
       "<style scoped>\n",
       "    .dataframe tbody tr th:only-of-type {\n",
       "        vertical-align: middle;\n",
       "    }\n",
       "\n",
       "    .dataframe tbody tr th {\n",
       "        vertical-align: top;\n",
       "    }\n",
       "\n",
       "    .dataframe thead th {\n",
       "        text-align: right;\n",
       "    }\n",
       "</style>\n",
       "<table border=\"1\" class=\"dataframe\">\n",
       "  <thead>\n",
       "    <tr style=\"text-align: right;\">\n",
       "      <th></th>\n",
       "      <th>date</th>\n",
       "      <th>open</th>\n",
       "      <th>high</th>\n",
       "      <th>low</th>\n",
       "      <th>close</th>\n",
       "      <th>volume</th>\n",
       "      <th>average</th>\n",
       "      <th>barCount</th>\n",
       "    </tr>\n",
       "  </thead>\n",
       "  <tbody>\n",
       "    <tr>\n",
       "      <th>0</th>\n",
       "      <td>2020-10-22 21:30:00</td>\n",
       "      <td>11686.875</td>\n",
       "      <td>11713.000</td>\n",
       "      <td>11685.375</td>\n",
       "      <td>11708.875</td>\n",
       "      <td>-1</td>\n",
       "      <td>-1.0</td>\n",
       "      <td>-1</td>\n",
       "    </tr>\n",
       "    <tr>\n",
       "      <th>1</th>\n",
       "      <td>2020-10-22 21:31:00</td>\n",
       "      <td>11708.875</td>\n",
       "      <td>11723.750</td>\n",
       "      <td>11708.625</td>\n",
       "      <td>11716.000</td>\n",
       "      <td>-1</td>\n",
       "      <td>-1.0</td>\n",
       "      <td>-1</td>\n",
       "    </tr>\n",
       "    <tr>\n",
       "      <th>2</th>\n",
       "      <td>2020-10-22 21:32:00</td>\n",
       "      <td>11716.000</td>\n",
       "      <td>11720.375</td>\n",
       "      <td>11706.750</td>\n",
       "      <td>11708.125</td>\n",
       "      <td>-1</td>\n",
       "      <td>-1.0</td>\n",
       "      <td>-1</td>\n",
       "    </tr>\n",
       "    <tr>\n",
       "      <th>3</th>\n",
       "      <td>2020-10-22 21:33:00</td>\n",
       "      <td>11708.125</td>\n",
       "      <td>11714.375</td>\n",
       "      <td>11703.250</td>\n",
       "      <td>11706.000</td>\n",
       "      <td>-1</td>\n",
       "      <td>-1.0</td>\n",
       "      <td>-1</td>\n",
       "    </tr>\n",
       "    <tr>\n",
       "      <th>4</th>\n",
       "      <td>2020-10-22 21:34:00</td>\n",
       "      <td>11706.000</td>\n",
       "      <td>11712.500</td>\n",
       "      <td>11702.500</td>\n",
       "      <td>11706.500</td>\n",
       "      <td>-1</td>\n",
       "      <td>-1.0</td>\n",
       "      <td>-1</td>\n",
       "    </tr>\n",
       "    <tr>\n",
       "      <th>...</th>\n",
       "      <td>...</td>\n",
       "      <td>...</td>\n",
       "      <td>...</td>\n",
       "      <td>...</td>\n",
       "      <td>...</td>\n",
       "      <td>...</td>\n",
       "      <td>...</td>\n",
       "      <td>...</td>\n",
       "    </tr>\n",
       "    <tr>\n",
       "      <th>12835</th>\n",
       "      <td>2020-12-04 05:55:00</td>\n",
       "      <td>12487.750</td>\n",
       "      <td>12490.500</td>\n",
       "      <td>12487.750</td>\n",
       "      <td>12488.500</td>\n",
       "      <td>-1</td>\n",
       "      <td>-1.0</td>\n",
       "      <td>-1</td>\n",
       "    </tr>\n",
       "    <tr>\n",
       "      <th>12836</th>\n",
       "      <td>2020-12-04 05:56:00</td>\n",
       "      <td>12488.500</td>\n",
       "      <td>12489.625</td>\n",
       "      <td>12487.500</td>\n",
       "      <td>12488.625</td>\n",
       "      <td>-1</td>\n",
       "      <td>-1.0</td>\n",
       "      <td>-1</td>\n",
       "    </tr>\n",
       "    <tr>\n",
       "      <th>12837</th>\n",
       "      <td>2020-12-04 05:57:00</td>\n",
       "      <td>12488.625</td>\n",
       "      <td>12489.250</td>\n",
       "      <td>12487.625</td>\n",
       "      <td>12487.875</td>\n",
       "      <td>-1</td>\n",
       "      <td>-1.0</td>\n",
       "      <td>-1</td>\n",
       "    </tr>\n",
       "    <tr>\n",
       "      <th>12838</th>\n",
       "      <td>2020-12-04 05:58:00</td>\n",
       "      <td>12487.875</td>\n",
       "      <td>12488.875</td>\n",
       "      <td>12487.750</td>\n",
       "      <td>12487.750</td>\n",
       "      <td>-1</td>\n",
       "      <td>-1.0</td>\n",
       "      <td>-1</td>\n",
       "    </tr>\n",
       "    <tr>\n",
       "      <th>12839</th>\n",
       "      <td>2020-12-04 05:59:00</td>\n",
       "      <td>12487.750</td>\n",
       "      <td>12488.625</td>\n",
       "      <td>12487.750</td>\n",
       "      <td>12488.125</td>\n",
       "      <td>-1</td>\n",
       "      <td>-1.0</td>\n",
       "      <td>-1</td>\n",
       "    </tr>\n",
       "  </tbody>\n",
       "</table>\n",
       "<p>12840 rows × 8 columns</p>\n",
       "</div>"
      ],
      "text/plain": [
       "                     date       open       high        low      close  volume  \\\n",
       "0     2020-10-22 21:30:00  11686.875  11713.000  11685.375  11708.875      -1   \n",
       "1     2020-10-22 21:31:00  11708.875  11723.750  11708.625  11716.000      -1   \n",
       "2     2020-10-22 21:32:00  11716.000  11720.375  11706.750  11708.125      -1   \n",
       "3     2020-10-22 21:33:00  11708.125  11714.375  11703.250  11706.000      -1   \n",
       "4     2020-10-22 21:34:00  11706.000  11712.500  11702.500  11706.500      -1   \n",
       "...                   ...        ...        ...        ...        ...     ...   \n",
       "12835 2020-12-04 05:55:00  12487.750  12490.500  12487.750  12488.500      -1   \n",
       "12836 2020-12-04 05:56:00  12488.500  12489.625  12487.500  12488.625      -1   \n",
       "12837 2020-12-04 05:57:00  12488.625  12489.250  12487.625  12487.875      -1   \n",
       "12838 2020-12-04 05:58:00  12487.875  12488.875  12487.750  12487.750      -1   \n",
       "12839 2020-12-04 05:59:00  12487.750  12488.625  12487.750  12488.125      -1   \n",
       "\n",
       "       average  barCount  \n",
       "0         -1.0        -1  \n",
       "1         -1.0        -1  \n",
       "2         -1.0        -1  \n",
       "3         -1.0        -1  \n",
       "4         -1.0        -1  \n",
       "...        ...       ...  \n",
       "12835     -1.0        -1  \n",
       "12836     -1.0        -1  \n",
       "12837     -1.0        -1  \n",
       "12838     -1.0        -1  \n",
       "12839     -1.0        -1  \n",
       "\n",
       "[12840 rows x 8 columns]"
      ]
     },
     "execution_count": 6,
     "metadata": {},
     "output_type": "execute_result"
    }
   ],
   "source": [
    "# 4.0 歷史數據\n",
    "bars1 = ib.reqHistoricalData(future1, endDateTime='', durationStr='30 D', \n",
    "                             barSizeSetting='1 min', whatToShow='MIDPOINT', useRTH=True)\n",
    "util.df(bars1)"
   ]
  },
  {
   "cell_type": "code",
   "execution_count": 7,
   "metadata": {},
   "outputs": [],
   "source": [
    "# 5.0 買盤\n",
    "order1 = LimitOrder('BUY', 1, 12474.00+0.25)\n",
    "#trade1 = ib.placeOrder(future1, order1)\n",
    "#trade1"
   ]
  },
  {
   "cell_type": "code",
   "execution_count": 28,
   "metadata": {},
   "outputs": [
    {
     "data": {
      "text/plain": [
       "[Position(account='DU365095', contract=Future(conId=383974419, symbol='NQ', lastTradeDateOrContractMonth='20201218', multiplier='20', currency='USD', localSymbol='NQZ0', tradingClass='NQ'), position=1.0, avgCost=249315.67142855)]"
      ]
     },
     "execution_count": 28,
     "metadata": {},
     "output_type": "execute_result"
    }
   ],
   "source": [
    "# 6.0 倉位\n",
    "ib.positions()"
   ]
  },
  {
   "cell_type": "code",
   "execution_count": 31,
   "metadata": {},
   "outputs": [
    {
     "data": {
      "text/plain": [
       "[2.1]"
      ]
     },
     "execution_count": 31,
     "metadata": {},
     "output_type": "execute_result"
    }
   ],
   "source": [
    "# 7.0 手續費\n",
    "[fill.commissionReport.commission for fill in ib.fills()]"
   ]
  },
  {
   "cell_type": "code",
   "execution_count": 19,
   "metadata": {},
   "outputs": [
    {
     "data": {
      "text/plain": [
       "Trade(contract=Future(symbol='NQ', lastTradeDateOrContractMonth='202012', exchange='GLOBEX'), order=LimitOrder(orderId=24, clientId=1, action='SELL', totalQuantity=1, lmtPrice=12490.0), orderStatus=OrderStatus(orderId=24, status='PendingSubmit', filled=0, remaining=0, avgFillPrice=0.0, permId=0, parentId=0, lastFillPrice=0.0, clientId=0, whyHeld='', mktCapPrice=0.0), fills=[], log=[TradeLogEntry(time=datetime.datetime(2020, 12, 4, 2, 39, 31, 329339, tzinfo=datetime.timezone.utc), status='PendingSubmit', message='')])"
      ]
     },
     "execution_count": 19,
     "metadata": {},
     "output_type": "execute_result"
    }
   ],
   "source": [
    "# 8.0 賣盤\n",
    "order2 = LimitOrder('SELL', 1, 12490.25-0.25)\n",
    "trade2 = ib.placeOrder(future1, order2)\n",
    "trade2"
   ]
  },
  {
   "cell_type": "code",
   "execution_count": 32,
   "metadata": {},
   "outputs": [
    {
     "data": {
      "text/plain": [
       "[LimitOrder(orderId=24, clientId=1, permId=2051432781, action='SELL', totalQuantity=1, lmtPrice=12490.0)]"
      ]
     },
     "execution_count": 32,
     "metadata": {},
     "output_type": "execute_result"
    }
   ],
   "source": [
    "# 9.0 盤\n",
    "ib.orders()"
   ]
  },
  {
   "cell_type": "code",
   "execution_count": 33,
   "metadata": {},
   "outputs": [
    {
     "data": {
      "text/plain": [
       "[Trade(contract=Future(symbol='NQ', lastTradeDateOrContractMonth='202012', exchange='GLOBEX'), order=LimitOrder(orderId=24, clientId=1, permId=2051432781, action='SELL', totalQuantity=1, lmtPrice=12490.0), orderStatus=OrderStatus(orderId=24, status='Filled', filled=1.0, remaining=0.0, avgFillPrice=12490.5, permId=2051432781, parentId=0, lastFillPrice=12490.5, clientId=1, whyHeld='', mktCapPrice=0.0), fills=[Fill(contract=Future(conId=383974419, symbol='NQ', lastTradeDateOrContractMonth='20201218', multiplier='20', exchange='GLOBEX', currency='USD', localSymbol='NQZ0', tradingClass='NQ'), execution=Execution(execId='0000e1a7.5fc97570.01.01', time=datetime.datetime(2020, 12, 4, 2, 39, 31, tzinfo=datetime.timezone.utc), acctNumber='DU365095', exchange='GLOBEX', side='SLD', shares=1.0, price=12490.5, permId=2051432781, clientId=1, orderId=24, liquidation=0, cumQty=1.0, avgPrice=12490.5, orderRef='', evRule='', evMultiplier=0.0, modelCode='', lastLiquidity=1), commissionReport=CommissionReport(execId='0000e1a7.5fc97570.01.01', commission=2.1, currency='USD', realizedPNL=492.228571, yield_=0.0, yieldRedemptionDate=0), time=datetime.datetime(2020, 12, 4, 2, 39, 32, 299394, tzinfo=datetime.timezone.utc))], log=[TradeLogEntry(time=datetime.datetime(2020, 12, 4, 2, 39, 31, 329339, tzinfo=datetime.timezone.utc), status='PendingSubmit', message=''), TradeLogEntry(time=datetime.datetime(2020, 12, 4, 2, 39, 32, 225390, tzinfo=datetime.timezone.utc), status='PreSubmitted', message=''), TradeLogEntry(time=datetime.datetime(2020, 12, 4, 2, 39, 32, 299394, tzinfo=datetime.timezone.utc), status='PreSubmitted', message='Fill 1.0@12490.5'), TradeLogEntry(time=datetime.datetime(2020, 12, 4, 2, 39, 32, 301394, tzinfo=datetime.timezone.utc), status='Filled', message='')])]"
      ]
     },
     "execution_count": 33,
     "metadata": {},
     "output_type": "execute_result"
    }
   ],
   "source": [
    "# 10.0 交易紀錄\n",
    "ib.trades()"
   ]
  },
  {
   "cell_type": "code",
   "execution_count": 36,
   "metadata": {},
   "outputs": [],
   "source": [
    "# 關閉連接\n",
    "ib.disconnect()"
   ]
  },
  {
   "cell_type": "code",
   "execution_count": null,
   "metadata": {},
   "outputs": [],
   "source": []
  }
 ],
 "metadata": {
  "kernelspec": {
   "display_name": "Python 3",
   "language": "python",
   "name": "python3"
  },
  "language_info": {
   "codemirror_mode": {
    "name": "ipython",
    "version": 3
   },
   "file_extension": ".py",
   "mimetype": "text/x-python",
   "name": "python",
   "nbconvert_exporter": "python",
   "pygments_lexer": "ipython3",
   "version": "3.7.5"
  }
 },
 "nbformat": 4,
 "nbformat_minor": 4
}
