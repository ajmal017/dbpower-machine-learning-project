{
 "cells": [
  {
   "cell_type": "code",
   "execution_count": 26,
   "metadata": {},
   "outputs": [],
   "source": [
    "import os as os\n",
    "import ib_insync\n",
    "import pandas as pd\n",
    "import sqlite3 as sqlite3\n",
    "from datetime import datetime, timedelta, date\n",
    "# print(ib_insync.__all__)"
   ]
  },
  {
   "cell_type": "code",
   "execution_count": 2,
   "metadata": {},
   "outputs": [],
   "source": [
    "from ib_insync import *\n",
    "util.startLoop()"
   ]
  },
  {
   "cell_type": "code",
   "execution_count": 3,
   "metadata": {},
   "outputs": [
    {
     "data": {
      "text/plain": [
       "<IB connected to 127.0.0.1:4002 clientId=1>"
      ]
     },
     "execution_count": 3,
     "metadata": {},
     "output_type": "execute_result"
    }
   ],
   "source": [
    "# 1.0 打開連接\n",
    "ib = IB()\n",
    "ib.connect('127.0.0.1', port=4002, clientId=1, timeout=5)"
   ]
  },
  {
   "cell_type": "code",
   "execution_count": 4,
   "metadata": {},
   "outputs": [
    {
     "data": {
      "text/plain": [
       "[AccountValue(account='DU365095', tag='NetLiquidationByCurrency', value='2171451.5651', currency='BASE', modelCode='')]"
      ]
     },
     "execution_count": 4,
     "metadata": {},
     "output_type": "execute_result"
    }
   ],
   "source": [
    "# 2.0 帳戶資金\n",
    "[v for v in ib.accountValues() if v.tag == 'NetLiquidationByCurrency' and v.currency == 'BASE']"
   ]
  },
  {
   "cell_type": "code",
   "execution_count": 5,
   "metadata": {},
   "outputs": [],
   "source": [
    "# 3.0 期貨\n",
    "date1 = date.today().strftime('%Y%m')\n",
    "future1 = Future('NQ', date1, 'GLOBEX')"
   ]
  },
  {
   "cell_type": "code",
   "execution_count": 9,
   "metadata": {},
   "outputs": [
    {
     "data": {
      "text/html": [
       "<div>\n",
       "<style scoped>\n",
       "    .dataframe tbody tr th:only-of-type {\n",
       "        vertical-align: middle;\n",
       "    }\n",
       "\n",
       "    .dataframe tbody tr th {\n",
       "        vertical-align: top;\n",
       "    }\n",
       "\n",
       "    .dataframe thead th {\n",
       "        text-align: right;\n",
       "    }\n",
       "</style>\n",
       "<table border=\"1\" class=\"dataframe\">\n",
       "  <thead>\n",
       "    <tr style=\"text-align: right;\">\n",
       "      <th></th>\n",
       "      <th>date</th>\n",
       "      <th>open</th>\n",
       "      <th>high</th>\n",
       "      <th>low</th>\n",
       "      <th>close</th>\n",
       "      <th>volume</th>\n",
       "      <th>average</th>\n",
       "      <th>barCount</th>\n",
       "    </tr>\n",
       "  </thead>\n",
       "  <tbody>\n",
       "    <tr>\n",
       "      <th>0</th>\n",
       "      <td>2020-10-30 21:30:00</td>\n",
       "      <td>11246.875</td>\n",
       "      <td>11257.375</td>\n",
       "      <td>11230.000</td>\n",
       "      <td>11238.500</td>\n",
       "      <td>-1</td>\n",
       "      <td>-1.0</td>\n",
       "      <td>-1</td>\n",
       "    </tr>\n",
       "    <tr>\n",
       "      <th>1</th>\n",
       "      <td>2020-10-30 21:31:00</td>\n",
       "      <td>11238.500</td>\n",
       "      <td>11265.625</td>\n",
       "      <td>11234.625</td>\n",
       "      <td>11260.750</td>\n",
       "      <td>-1</td>\n",
       "      <td>-1.0</td>\n",
       "      <td>-1</td>\n",
       "    </tr>\n",
       "    <tr>\n",
       "      <th>2</th>\n",
       "      <td>2020-10-30 21:32:00</td>\n",
       "      <td>11260.750</td>\n",
       "      <td>11281.125</td>\n",
       "      <td>11257.125</td>\n",
       "      <td>11273.000</td>\n",
       "      <td>-1</td>\n",
       "      <td>-1.0</td>\n",
       "      <td>-1</td>\n",
       "    </tr>\n",
       "    <tr>\n",
       "      <th>3</th>\n",
       "      <td>2020-10-30 21:33:00</td>\n",
       "      <td>11273.000</td>\n",
       "      <td>11277.500</td>\n",
       "      <td>11262.250</td>\n",
       "      <td>11265.875</td>\n",
       "      <td>-1</td>\n",
       "      <td>-1.0</td>\n",
       "      <td>-1</td>\n",
       "    </tr>\n",
       "    <tr>\n",
       "      <th>4</th>\n",
       "      <td>2020-10-30 21:34:00</td>\n",
       "      <td>11265.875</td>\n",
       "      <td>11268.875</td>\n",
       "      <td>11242.250</td>\n",
       "      <td>11247.875</td>\n",
       "      <td>-1</td>\n",
       "      <td>-1.0</td>\n",
       "      <td>-1</td>\n",
       "    </tr>\n",
       "    <tr>\n",
       "      <th>...</th>\n",
       "      <td>...</td>\n",
       "      <td>...</td>\n",
       "      <td>...</td>\n",
       "      <td>...</td>\n",
       "      <td>...</td>\n",
       "      <td>...</td>\n",
       "      <td>...</td>\n",
       "      <td>...</td>\n",
       "    </tr>\n",
       "    <tr>\n",
       "      <th>12835</th>\n",
       "      <td>2020-12-12 05:55:00</td>\n",
       "      <td>12372.500</td>\n",
       "      <td>12373.125</td>\n",
       "      <td>12371.125</td>\n",
       "      <td>12371.500</td>\n",
       "      <td>-1</td>\n",
       "      <td>-1.0</td>\n",
       "      <td>-1</td>\n",
       "    </tr>\n",
       "    <tr>\n",
       "      <th>12836</th>\n",
       "      <td>2020-12-12 05:56:00</td>\n",
       "      <td>12371.500</td>\n",
       "      <td>12373.250</td>\n",
       "      <td>12370.875</td>\n",
       "      <td>12372.875</td>\n",
       "      <td>-1</td>\n",
       "      <td>-1.0</td>\n",
       "      <td>-1</td>\n",
       "    </tr>\n",
       "    <tr>\n",
       "      <th>12837</th>\n",
       "      <td>2020-12-12 05:57:00</td>\n",
       "      <td>12372.875</td>\n",
       "      <td>12373.500</td>\n",
       "      <td>12372.875</td>\n",
       "      <td>12373.125</td>\n",
       "      <td>-1</td>\n",
       "      <td>-1.0</td>\n",
       "      <td>-1</td>\n",
       "    </tr>\n",
       "    <tr>\n",
       "      <th>12838</th>\n",
       "      <td>2020-12-12 05:58:00</td>\n",
       "      <td>12373.125</td>\n",
       "      <td>12374.375</td>\n",
       "      <td>12372.375</td>\n",
       "      <td>12373.375</td>\n",
       "      <td>-1</td>\n",
       "      <td>-1.0</td>\n",
       "      <td>-1</td>\n",
       "    </tr>\n",
       "    <tr>\n",
       "      <th>12839</th>\n",
       "      <td>2020-12-12 05:59:00</td>\n",
       "      <td>12373.375</td>\n",
       "      <td>12373.875</td>\n",
       "      <td>12367.625</td>\n",
       "      <td>12368.125</td>\n",
       "      <td>-1</td>\n",
       "      <td>-1.0</td>\n",
       "      <td>-1</td>\n",
       "    </tr>\n",
       "  </tbody>\n",
       "</table>\n",
       "<p>12840 rows × 8 columns</p>\n",
       "</div>"
      ],
      "text/plain": [
       "                     date       open       high        low      close  volume  \\\n",
       "0     2020-10-30 21:30:00  11246.875  11257.375  11230.000  11238.500      -1   \n",
       "1     2020-10-30 21:31:00  11238.500  11265.625  11234.625  11260.750      -1   \n",
       "2     2020-10-30 21:32:00  11260.750  11281.125  11257.125  11273.000      -1   \n",
       "3     2020-10-30 21:33:00  11273.000  11277.500  11262.250  11265.875      -1   \n",
       "4     2020-10-30 21:34:00  11265.875  11268.875  11242.250  11247.875      -1   \n",
       "...                   ...        ...        ...        ...        ...     ...   \n",
       "12835 2020-12-12 05:55:00  12372.500  12373.125  12371.125  12371.500      -1   \n",
       "12836 2020-12-12 05:56:00  12371.500  12373.250  12370.875  12372.875      -1   \n",
       "12837 2020-12-12 05:57:00  12372.875  12373.500  12372.875  12373.125      -1   \n",
       "12838 2020-12-12 05:58:00  12373.125  12374.375  12372.375  12373.375      -1   \n",
       "12839 2020-12-12 05:59:00  12373.375  12373.875  12367.625  12368.125      -1   \n",
       "\n",
       "       average  barCount  \n",
       "0         -1.0        -1  \n",
       "1         -1.0        -1  \n",
       "2         -1.0        -1  \n",
       "3         -1.0        -1  \n",
       "4         -1.0        -1  \n",
       "...        ...       ...  \n",
       "12835     -1.0        -1  \n",
       "12836     -1.0        -1  \n",
       "12837     -1.0        -1  \n",
       "12838     -1.0        -1  \n",
       "12839     -1.0        -1  \n",
       "\n",
       "[12840 rows x 8 columns]"
      ]
     },
     "execution_count": 9,
     "metadata": {},
     "output_type": "execute_result"
    }
   ],
   "source": [
    "# 4.0 歷史數據\n",
    "bars1 = ib.reqHistoricalData(future1, endDateTime='', durationStr='60 D', barSizeSetting='1 min', whatToShow='MIDPOINT', useRTH=True)\n",
    "data1 = util.df(bars1)\n",
    "data1"
   ]
  },
  {
   "cell_type": "code",
   "execution_count": 27,
   "metadata": {},
   "outputs": [],
   "source": [
    "# 4.1 储存sqlite\n",
    "data1['date'] = pd.to_datetime(data1['date'])\n",
    "data1['date'] = data1['date'].dt.strftime('%Y-%m-%d %H:%M:%S')\n",
    "data1.drop(data1.columns.difference(['date', 'open', 'high', 'low', 'close', 'volume']), 1, inplace=True)\n",
    "data2 = [tuple(x) for x in data1.values]\n",
    "\n",
    "path_db = os.path.abspath(os.path.join('data', 'nq', 'data', 'nq.db'))\n",
    "db = sqlite3.connect(path_db)\n",
    "cursor = db.cursor()\n",
    "cursor.executemany('REPLACE INTO nq (udate, high, low, open, close, vol) VALUES (?, ?, ?, ?, ?, ?)', data2)\n",
    "db.commit()\n",
    "cursor.close()\n",
    "db.close()"
   ]
  },
  {
   "cell_type": "code",
   "execution_count": 7,
   "metadata": {},
   "outputs": [],
   "source": [
    "# 5.0 買盤\n",
    "order1 = LimitOrder('BUY', 1, 12474.00+0.25)\n",
    "#trade1 = ib.placeOrder(future1, order1)\n",
    "#trade1"
   ]
  },
  {
   "cell_type": "code",
   "execution_count": 8,
   "metadata": {},
   "outputs": [
    {
     "data": {
      "text/plain": [
       "[Position(account='DU365095', contract=Future(conId=383974419, symbol='NQ', lastTradeDateOrContractMonth='20201218', multiplier='20', currency='USD', localSymbol='NQZ0', tradingClass='NQ'), position=3.0, avgCost=250322.1)]"
      ]
     },
     "execution_count": 8,
     "metadata": {},
     "output_type": "execute_result"
    }
   ],
   "source": [
    "# 6.0 倉位\n",
    "ib.positions()"
   ]
  },
  {
   "cell_type": "code",
   "execution_count": 9,
   "metadata": {},
   "outputs": [
    {
     "data": {
      "text/plain": [
       "[]"
      ]
     },
     "execution_count": 9,
     "metadata": {},
     "output_type": "execute_result"
    }
   ],
   "source": [
    "# 7.0 手續費\n",
    "[fill.commissionReport.commission for fill in ib.fills()]"
   ]
  },
  {
   "cell_type": "code",
   "execution_count": 10,
   "metadata": {},
   "outputs": [
    {
     "data": {
      "text/plain": [
       "Trade(contract=Future(symbol='NQ', lastTradeDateOrContractMonth='202012', exchange='GLOBEX'), order=LimitOrder(orderId=48, clientId=1, action='SELL', totalQuantity=1, lmtPrice=12490.0), orderStatus=OrderStatus(orderId=48, status='PendingSubmit', filled=0, remaining=0, avgFillPrice=0.0, permId=0, parentId=0, lastFillPrice=0.0, clientId=0, whyHeld='', mktCapPrice=0.0), fills=[], log=[TradeLogEntry(time=datetime.datetime(2020, 12, 14, 3, 1, 15, 282857, tzinfo=datetime.timezone.utc), status='PendingSubmit', message='')])"
      ]
     },
     "execution_count": 10,
     "metadata": {},
     "output_type": "execute_result"
    }
   ],
   "source": [
    "# 8.0 賣盤\n",
    "order2 = LimitOrder('SELL', 1, 12490.25-0.25)\n",
    "trade2 = ib.placeOrder(future1, order2)\n",
    "trade2"
   ]
  },
  {
   "cell_type": "code",
   "execution_count": 11,
   "metadata": {},
   "outputs": [
    {
     "data": {
      "text/plain": [
       "[LimitOrder(orderId=48, clientId=1, action='SELL', totalQuantity=1, lmtPrice=12490.0)]"
      ]
     },
     "execution_count": 11,
     "metadata": {},
     "output_type": "execute_result"
    }
   ],
   "source": [
    "# 9.0 盤\n",
    "ib.orders()"
   ]
  },
  {
   "cell_type": "code",
   "execution_count": null,
   "metadata": {},
   "outputs": [],
   "source": [
    "# 10.0 交易紀錄\n",
    "ib.trades()"
   ]
  },
  {
   "cell_type": "code",
   "execution_count": 13,
   "metadata": {},
   "outputs": [],
   "source": [
    "# 關閉連接\n",
    "ib.disconnect()"
   ]
  },
  {
   "cell_type": "code",
   "execution_count": null,
   "metadata": {},
   "outputs": [],
   "source": []
  },
  {
   "cell_type": "code",
   "execution_count": null,
   "metadata": {},
   "outputs": [],
   "source": []
  }
 ],
 "metadata": {
  "kernelspec": {
   "display_name": "Python 3",
   "language": "python",
   "name": "python3"
  },
  "language_info": {
   "codemirror_mode": {
    "name": "ipython",
    "version": 3
   },
   "file_extension": ".py",
   "mimetype": "text/x-python",
   "name": "python",
   "nbconvert_exporter": "python",
   "pygments_lexer": "ipython3",
   "version": "3.7.4"
  }
 },
 "nbformat": 4,
 "nbformat_minor": 4
}
