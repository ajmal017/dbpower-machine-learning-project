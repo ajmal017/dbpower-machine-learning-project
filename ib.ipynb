{
 "cells": [
  {
   "cell_type": "code",
   "execution_count": 1,
   "metadata": {},
   "outputs": [],
   "source": [
    "import ib_insync\n",
    "from datetime import datetime, timedelta, date\n",
    "# print(ib_insync.__all__)"
   ]
  },
  {
   "cell_type": "code",
   "execution_count": 2,
   "metadata": {},
   "outputs": [],
   "source": [
    "from ib_insync import *\n",
    "util.startLoop()"
   ]
  },
  {
   "cell_type": "code",
   "execution_count": 3,
   "metadata": {},
   "outputs": [
    {
     "data": {
      "text/plain": [
       "<IB connected to 127.0.0.1:4002 clientId=1>"
      ]
     },
     "execution_count": 3,
     "metadata": {},
     "output_type": "execute_result"
    }
   ],
   "source": [
    "# 1.0 打開連接\n",
    "ib = IB()\n",
    "ib.connect('127.0.0.1', port=4002, clientId=1, timeout=5000)"
   ]
  },
  {
   "cell_type": "code",
   "execution_count": 4,
   "metadata": {},
   "outputs": [
    {
     "data": {
      "text/plain": [
       "[AccountValue(account='DU365095', tag='NetLiquidationByCurrency', value='2205170.3697', currency='BASE', modelCode='')]"
      ]
     },
     "execution_count": 4,
     "metadata": {},
     "output_type": "execute_result"
    }
   ],
   "source": [
    "# 2.0 帳戶資金\n",
    "[v for v in ib.accountValues() if v.tag == 'NetLiquidationByCurrency' and v.currency == 'BASE']"
   ]
  },
  {
   "cell_type": "code",
   "execution_count": 5,
   "metadata": {},
   "outputs": [],
   "source": [
    "# 3.0 期貨\n",
    "date1 = date.today().strftime('%Y%m')\n",
    "future1 = Future('NQ', date1, 'GLOBEX')"
   ]
  },
  {
   "cell_type": "code",
   "execution_count": 6,
   "metadata": {},
   "outputs": [
    {
     "data": {
      "text/html": [
       "<div>\n",
       "<style scoped>\n",
       "    .dataframe tbody tr th:only-of-type {\n",
       "        vertical-align: middle;\n",
       "    }\n",
       "\n",
       "    .dataframe tbody tr th {\n",
       "        vertical-align: top;\n",
       "    }\n",
       "\n",
       "    .dataframe thead th {\n",
       "        text-align: right;\n",
       "    }\n",
       "</style>\n",
       "<table border=\"1\" class=\"dataframe\">\n",
       "  <thead>\n",
       "    <tr style=\"text-align: right;\">\n",
       "      <th></th>\n",
       "      <th>date</th>\n",
       "      <th>open</th>\n",
       "      <th>high</th>\n",
       "      <th>low</th>\n",
       "      <th>close</th>\n",
       "      <th>volume</th>\n",
       "      <th>average</th>\n",
       "      <th>barCount</th>\n",
       "    </tr>\n",
       "  </thead>\n",
       "  <tbody>\n",
       "    <tr>\n",
       "      <th>0</th>\n",
       "      <td>2020-10-21 21:30:00</td>\n",
       "      <td>11669.500</td>\n",
       "      <td>11684.125</td>\n",
       "      <td>11656.000</td>\n",
       "      <td>11668.250</td>\n",
       "      <td>-1</td>\n",
       "      <td>-1.0</td>\n",
       "      <td>-1</td>\n",
       "    </tr>\n",
       "    <tr>\n",
       "      <th>1</th>\n",
       "      <td>2020-10-21 21:31:00</td>\n",
       "      <td>11668.250</td>\n",
       "      <td>11688.125</td>\n",
       "      <td>11665.500</td>\n",
       "      <td>11684.375</td>\n",
       "      <td>-1</td>\n",
       "      <td>-1.0</td>\n",
       "      <td>-1</td>\n",
       "    </tr>\n",
       "    <tr>\n",
       "      <th>2</th>\n",
       "      <td>2020-10-21 21:32:00</td>\n",
       "      <td>11684.375</td>\n",
       "      <td>11686.000</td>\n",
       "      <td>11672.125</td>\n",
       "      <td>11681.875</td>\n",
       "      <td>-1</td>\n",
       "      <td>-1.0</td>\n",
       "      <td>-1</td>\n",
       "    </tr>\n",
       "    <tr>\n",
       "      <th>3</th>\n",
       "      <td>2020-10-21 21:33:00</td>\n",
       "      <td>11681.875</td>\n",
       "      <td>11696.500</td>\n",
       "      <td>11675.625</td>\n",
       "      <td>11690.375</td>\n",
       "      <td>-1</td>\n",
       "      <td>-1.0</td>\n",
       "      <td>-1</td>\n",
       "    </tr>\n",
       "    <tr>\n",
       "      <th>4</th>\n",
       "      <td>2020-10-21 21:34:00</td>\n",
       "      <td>11690.375</td>\n",
       "      <td>11698.000</td>\n",
       "      <td>11686.125</td>\n",
       "      <td>11693.000</td>\n",
       "      <td>-1</td>\n",
       "      <td>-1.0</td>\n",
       "      <td>-1</td>\n",
       "    </tr>\n",
       "    <tr>\n",
       "      <th>...</th>\n",
       "      <td>...</td>\n",
       "      <td>...</td>\n",
       "      <td>...</td>\n",
       "      <td>...</td>\n",
       "      <td>...</td>\n",
       "      <td>...</td>\n",
       "      <td>...</td>\n",
       "      <td>...</td>\n",
       "    </tr>\n",
       "    <tr>\n",
       "      <th>12835</th>\n",
       "      <td>2020-12-03 05:55:00</td>\n",
       "      <td>12461.500</td>\n",
       "      <td>12462.875</td>\n",
       "      <td>12460.625</td>\n",
       "      <td>12462.875</td>\n",
       "      <td>-1</td>\n",
       "      <td>-1.0</td>\n",
       "      <td>-1</td>\n",
       "    </tr>\n",
       "    <tr>\n",
       "      <th>12836</th>\n",
       "      <td>2020-12-03 05:56:00</td>\n",
       "      <td>12462.875</td>\n",
       "      <td>12463.000</td>\n",
       "      <td>12462.500</td>\n",
       "      <td>12463.000</td>\n",
       "      <td>-1</td>\n",
       "      <td>-1.0</td>\n",
       "      <td>-1</td>\n",
       "    </tr>\n",
       "    <tr>\n",
       "      <th>12837</th>\n",
       "      <td>2020-12-03 05:57:00</td>\n",
       "      <td>12463.000</td>\n",
       "      <td>12463.875</td>\n",
       "      <td>12462.750</td>\n",
       "      <td>12462.875</td>\n",
       "      <td>-1</td>\n",
       "      <td>-1.0</td>\n",
       "      <td>-1</td>\n",
       "    </tr>\n",
       "    <tr>\n",
       "      <th>12838</th>\n",
       "      <td>2020-12-03 05:58:00</td>\n",
       "      <td>12462.875</td>\n",
       "      <td>12464.000</td>\n",
       "      <td>12462.875</td>\n",
       "      <td>12462.875</td>\n",
       "      <td>-1</td>\n",
       "      <td>-1.0</td>\n",
       "      <td>-1</td>\n",
       "    </tr>\n",
       "    <tr>\n",
       "      <th>12839</th>\n",
       "      <td>2020-12-03 05:59:00</td>\n",
       "      <td>12462.875</td>\n",
       "      <td>12463.125</td>\n",
       "      <td>12460.750</td>\n",
       "      <td>12462.875</td>\n",
       "      <td>-1</td>\n",
       "      <td>-1.0</td>\n",
       "      <td>-1</td>\n",
       "    </tr>\n",
       "  </tbody>\n",
       "</table>\n",
       "<p>12840 rows × 8 columns</p>\n",
       "</div>"
      ],
      "text/plain": [
       "                     date       open       high        low      close  volume  \\\n",
       "0     2020-10-21 21:30:00  11669.500  11684.125  11656.000  11668.250      -1   \n",
       "1     2020-10-21 21:31:00  11668.250  11688.125  11665.500  11684.375      -1   \n",
       "2     2020-10-21 21:32:00  11684.375  11686.000  11672.125  11681.875      -1   \n",
       "3     2020-10-21 21:33:00  11681.875  11696.500  11675.625  11690.375      -1   \n",
       "4     2020-10-21 21:34:00  11690.375  11698.000  11686.125  11693.000      -1   \n",
       "...                   ...        ...        ...        ...        ...     ...   \n",
       "12835 2020-12-03 05:55:00  12461.500  12462.875  12460.625  12462.875      -1   \n",
       "12836 2020-12-03 05:56:00  12462.875  12463.000  12462.500  12463.000      -1   \n",
       "12837 2020-12-03 05:57:00  12463.000  12463.875  12462.750  12462.875      -1   \n",
       "12838 2020-12-03 05:58:00  12462.875  12464.000  12462.875  12462.875      -1   \n",
       "12839 2020-12-03 05:59:00  12462.875  12463.125  12460.750  12462.875      -1   \n",
       "\n",
       "       average  barCount  \n",
       "0         -1.0        -1  \n",
       "1         -1.0        -1  \n",
       "2         -1.0        -1  \n",
       "3         -1.0        -1  \n",
       "4         -1.0        -1  \n",
       "...        ...       ...  \n",
       "12835     -1.0        -1  \n",
       "12836     -1.0        -1  \n",
       "12837     -1.0        -1  \n",
       "12838     -1.0        -1  \n",
       "12839     -1.0        -1  \n",
       "\n",
       "[12840 rows x 8 columns]"
      ]
     },
     "execution_count": 6,
     "metadata": {},
     "output_type": "execute_result"
    }
   ],
   "source": [
    "# 4.0 歷史數據\n",
    "bars1 = ib.reqHistoricalData(future1, endDateTime='', durationStr='30 D', \n",
    "                             barSizeSetting='1 min', whatToShow='MIDPOINT', useRTH=True)\n",
    "util.df(bars1)"
   ]
  },
  {
   "cell_type": "code",
   "execution_count": 7,
   "metadata": {},
   "outputs": [
    {
     "data": {
      "text/plain": [
       "Trade(contract=Future(symbol='NQ', lastTradeDateOrContractMonth='202012', exchange='GLOBEX'), order=LimitOrder(orderId=14, clientId=1, action='BUY', totalQuantity=1, lmtPrice=12474.0), orderStatus=OrderStatus(orderId=14, status='PendingSubmit', filled=0, remaining=0, avgFillPrice=0.0, permId=0, parentId=0, lastFillPrice=0.0, clientId=0, whyHeld='', mktCapPrice=0.0), fills=[], log=[TradeLogEntry(time=datetime.datetime(2020, 12, 3, 9, 2, 51, 933101, tzinfo=datetime.timezone.utc), status='PendingSubmit', message='')])"
      ]
     },
     "execution_count": 7,
     "metadata": {},
     "output_type": "execute_result"
    }
   ],
   "source": [
    "# 5.0 買盤\n",
    "order1 = LimitOrder('BUY', 1, 12474.00)\n",
    "trade1 = ib.placeOrder(future1, order1)\n",
    "trade1"
   ]
  },
  {
   "cell_type": "code",
   "execution_count": 8,
   "metadata": {},
   "outputs": [
    {
     "data": {
      "text/plain": [
       "[Position(account='DU365095', contract=Future(conId=383974419, symbol='NQ', lastTradeDateOrContractMonth='20201218', multiplier='20', currency='USD', localSymbol='NQZ0', tradingClass='NQ'), position=1.0, avgCost=249412.1)]"
      ]
     },
     "execution_count": 8,
     "metadata": {},
     "output_type": "execute_result"
    }
   ],
   "source": [
    "# 6.0 倉位\n",
    "ib.positions()"
   ]
  },
  {
   "cell_type": "code",
   "execution_count": 9,
   "metadata": {},
   "outputs": [],
   "source": [
    "# 關閉連接\n",
    "# ib.disconnect()"
   ]
  },
  {
   "cell_type": "code",
   "execution_count": null,
   "metadata": {},
   "outputs": [],
   "source": []
  }
 ],
 "metadata": {
  "kernelspec": {
   "display_name": "Python 3",
   "language": "python",
   "name": "python3"
  },
  "language_info": {
   "codemirror_mode": {
    "name": "ipython",
    "version": 3
   },
   "file_extension": ".py",
   "mimetype": "text/x-python",
   "name": "python",
   "nbconvert_exporter": "python",
   "pygments_lexer": "ipython3",
   "version": "3.7.4"
  }
 },
 "nbformat": 4,
 "nbformat_minor": 4
}
